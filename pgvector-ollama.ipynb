{
 "cells": [
  {
   "cell_type": "code",
   "execution_count": 34,
   "id": "a584d968-45d5-4785-bf9e-5e19622c3be1",
   "metadata": {},
   "outputs": [
    {
     "data": {
      "text/plain": [
       "'กรุงเทพมหานคร เป็นเมืองหลวงของประเทศไทย'"
      ]
     },
     "execution_count": 34,
     "metadata": {},
     "output_type": "execute_result"
    }
   ],
   "source": [
    "import ollama\n",
    "\n",
    "prompt = \"เมืองหลวงของประเทศไทยคือ\"\n",
    "response = ollama.chat(model= \"llama3.2\", messages=[\n",
    "# {\"role\": \"system\", \"content\": \"You are female. Answer with นะคะ\"?,\n",
    "{\"role\": \"user\", \"content\": prompt}\n",
    "])\n",
    "response [ \"message\" ][\"content\" ]"
   ]
  },
  {
   "cell_type": "code",
   "execution_count": 35,
   "id": "9918caa2-b169-46dd-93a8-ecef6fd1f5f5",
   "metadata": {},
   "outputs": [],
   "source": [
    "import psycopg2\n",
    "\n",
    "conn = psycopg2.connect(\n",
    "dbname=\"mydb\",\n",
    "user=\"admin\",\n",
    "password=\"1234\",\n",
    "host=\"localhost\",\n",
    "port=\"5432\"\n",
    ")\n",
    "\n",
    "cur = conn.cursor()\n",
    "cur.execute(\"CREATE EXTENSION IF NOT EXISTS vector;\")\n",
    "conn.commit()\n",
    "\n",
    "cur.execute(\"\"\"\n",
    "CREATE TABLE IF NOT EXISTS documents (\n",
    "id SERIAL PRIMARY KEY,\n",
    "             content TEXT,\n",
    "             embedding vector(1024)\n",
    "             )\n",
    "\"\"\")\n",
    "conn.commit()\n",
    "cur.close()\n",
    "conn.close()\n"
   ]
  },
  {
   "cell_type": "code",
   "execution_count": 2,
   "id": "357a03d8-3e1b-4854-901d-482c21e38983",
   "metadata": {},
   "outputs": [
    {
     "name": "stderr",
     "output_type": "stream",
     "text": [
      "/Users/sittichaimarkwisai/miniconda3/envs/rag-ollama/lib/python3.10/site-packages/huggingface_hub/file_download.py:653: UserWarning: Not enough free disk space to download the file. The expected file size is: 2271.06 MB. The target location /Users/sittichaimarkwisai/.cache/huggingface/hub/models--BAAI--bge-m3/blobs only has 888.99 MB free disk space.\n",
      "  warnings.warn(\n"
     ]
    },
    {
     "data": {
      "application/vnd.jupyter.widget-view+json": {
       "model_id": "13f771054b984141bb19e49c1a9e6b8c",
       "version_major": 2,
       "version_minor": 0
      },
      "text/plain": [
       "model.safetensors:  73%|#######2  | 1.66G/2.27G [00:00<?, ?B/s]"
      ]
     },
     "metadata": {},
     "output_type": "display_data"
    }
   ],
   "source": [
    "from sentence_transformers import SentenceTransformer\n",
    "import psycopg2\n",
    "\n",
    "conn = psycopg2.connect(\n",
    "dbname=\"mydb\",\n",
    "user=\"admin\",\n",
    "password=\"1234\",\n",
    "host=\"localhost\",\n",
    "port=\"5432\"\n",
    ")\n",
    "\n",
    "cur = conn.cursor()\n",
    "\n",
    "embedder = SentenceTransformer(\"BAAI/bge-m3\")\n",
    "# embedding = embedder.encode(\"วิทยาลัยนวัตกรรมดิจิทัลเทคโนโลยี มหาวิทยาลัยรังสิต เปิดหลักสูตรปริญญาตรี 5 สาขา\").tolist()\n",
    "# embedding\n",
    "\n",
    "documents = [\n",
    "    \"ชื่อร้าน: ครัวคุณยาย, ประเภทอาหาร: ไทย, ราคาโดยเฉลี่ย: 200-300 บาท, ที่อยู่: สุขุมวิท 21, เบอร์โทร: 02-123-4567\",\n",
    "    \"ชื่อร้าน: Pizza Palace, ประเภทอาหาร: อิตาเลียน, ราคาโดยเฉลี่ย: 300-500 บาท, ที่อยู่: สีลม, เบอร์โทร: 02-987-6543\",\n",
    "    \"ชื่อร้าน: Sushi Den, ประเภทอาหาร: ญี่ปุ่น, ราคาโดยเฉลี่ย: 500-800 บาท, ที่อยู่: ทองหล่อ, เบอร์โทร: 02-555-1212\",\n",
    "    \"ชื่อร้าน: The Burger Joint, ประเภทอาหาร: อเมริกัน, ราคาโดยเฉลี่ย: 250-400 บาท, ที่อยู่: สยามสแควร์, เบอร์โทร: 02-777-8888\",\n",
    "    \"ชื่อร้าน: Som Tum Villa, ประเภทอาหาร: อีสาน, ราคาโดยเฉลี่ย: 150-250 บาท, ที่อยู่: ลาดพร้าว, เบอร์โทร: 02-333-9999\"\n",
    "]\n",
    "\n",
    "def add_document(text):\n",
    "    embedding = embedder.encode(text).tolist()\n",
    "    cur.execute(\"INSERT INTO documents (content, embedding) VALUES (%s, %s)\", (text, embedding))\n",
    "    conn.commit()\n",
    "\n",
    "for doc in documents: \n",
    "    add_document(doc)\n",
    "\n",
    "cur.close()\n",
    "conn.close()\n",
    "\n"
   ]
  },
  {
   "cell_type": "code",
   "execution_count": 5,
   "id": "62fea618-4abc-491b-a23b-cd9675d4d0a9",
   "metadata": {},
   "outputs": [
    {
     "data": {
      "text/plain": [
       "[('ชื่อร้าน: ครัวคุณยาย, ประเภทอาหาร: ไทย, ราคาโดยเฉลี่ย: 200-300 บาท, ที่อยู่: สุขุมวิท 21, เบอร์โทร: 02-123-4567',\n",
       "  0.44921722705466816)]"
      ]
     },
     "execution_count": 5,
     "metadata": {},
     "output_type": "execute_result"
    }
   ],
   "source": [
    "def query_postgresal(query_text, k=5):\n",
    "    query_embedding = embedder.encode(query_text).tolist()\n",
    "    conn = psycopg2.connect(\n",
    "    dbname=\"mydb\",\n",
    "    user=\"admin\",\n",
    "    password=\"1234\",\n",
    "    host=\"localhost\",\n",
    "    port=\"5432\"\n",
    "    )\n",
    "    cur = conn.cursor()\n",
    "\n",
    "    query_embedding_str = \"[\" + \" , \".join(map(str,  query_embedding)) + \"]\"\n",
    "\n",
    "    sql_query = \"\"\"\n",
    "    SELECT content, embedding <=> %s::vector AS similarity_score\n",
    "    FROM documents\n",
    "    ORDER BY similarity_score ASC\n",
    "    LIMIT %s;\n",
    "\"\"\"\n",
    "\n",
    "    cur.execute(sql_query, (query_embedding_str, k))\n",
    "    results = cur.fetchall()\n",
    "    cur.close()\n",
    "    conn.close()\n",
    "    return results\n",
    "\n",
    "results = query_postgresal(\"ร้านอาหารไทย \", k=1)\n",
    "results\n",
    "\n"
   ]
  },
  {
   "cell_type": "code",
   "execution_count": 8,
   "id": "eef3d967-e3d9-419e-b946-3b5c548bcb48",
   "metadata": {},
   "outputs": [
    {
     "data": {
      "text/plain": [
       "'มีร้านที่แนะนำคือ Pizza Palace ซึ่งอยู่ที่สีลม มีราคาประมาณ 300-500 บาท'"
      ]
     },
     "execution_count": 8,
     "metadata": {},
     "output_type": "execute_result"
    }
   ],
   "source": [
    "import ollama\n",
    "\n",
    "def generate_response(query_text):\n",
    "    retrived_docs = query_postgresal(query_text, 3)\n",
    "\n",
    "    context = \"\\n\".join([doc[0] for doc in retrived_docs])\n",
    "    prompt =  f\"Answer the question based on the following context:\\n{context}\\nQuestion: {query_text}\"\n",
    "    response = ollama.chat(model= \"llama3.2\", messages=[\n",
    "        { \"role\": \"system\", \"content\": \"You are assistant.\"},\n",
    "        {\n",
    "            \"role\": \"user\", \"content\": prompt\n",
    "         }\n",
    "    ])\n",
    "    return response[\"message\"][\"content\"]\n",
    "\n",
    "generate_response(\"อยากินพิซซ่า\")\n",
    "    # {\"role\": \"system\", \"content\": \"You are"
   ]
  },
  {
   "cell_type": "code",
   "execution_count": null,
   "id": "f2c3ec0a-9a84-440d-afdf-3b92250e6d1b",
   "metadata": {},
   "outputs": [],
   "source": []
  }
 ],
 "metadata": {
  "kernelspec": {
   "display_name": "Python 3 (ipykernel)",
   "language": "python",
   "name": "python3"
  },
  "language_info": {
   "codemirror_mode": {
    "name": "ipython",
    "version": 3
   },
   "file_extension": ".py",
   "mimetype": "text/x-python",
   "name": "python",
   "nbconvert_exporter": "python",
   "pygments_lexer": "ipython3",
   "version": "3.10.16"
  }
 },
 "nbformat": 4,
 "nbformat_minor": 5
}
